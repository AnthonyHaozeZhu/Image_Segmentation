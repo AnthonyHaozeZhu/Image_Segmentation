{
 "cells": [
  {
   "cell_type": "code",
   "execution_count": 25,
   "metadata": {
    "pycharm": {
     "is_executing": false
    }
   },
   "outputs": [
    {
     "name": "stdout",
     "text": [
      "The autoreload extension is already loaded. To reload it, use:\n  %reload_ext autoreload\n",
      "/home/chenyun/work1/PhraseCutPano\r\n"
     ],
     "output_type": "stream"
    }
   ],
   "source": [
    "%load_ext autoreload\n",
    "%autoreload 2\n",
    "import os\n",
    "os.chdir('/mnt/nfs/work1/elm/chenyun/PhraseCutPano')\n",
    "!pwd"
   ]
  },
  {
   "cell_type": "code",
   "execution_count": 26,
   "metadata": {
    "pycharm": {
     "is_executing": false
    }
   },
   "outputs": [
    {
     "name": "stdout",
     "text": [
      "Loader loading nar_count: data/refvg/amt_result/name_att_rel_count_amt.json\n",
      "Number of categories: 1272 / 3103, frequency thresh: 21 (excluding [INV] [UNK])\nNumber of attributes: 593 / 12143, frequency thresh: 21 (excluding [INV] [UNK])\nNumber of relationships: 126 / 3110, frequency thresh: 21 (excluding [INV] [UNK])\nLoader loading data_split: data/refvg/image_data_split3000.json\n",
      "split: train_val_test_miniv\nLoader loading scene_graphs_pp_train.json\n",
      "Loader loading scene_graphs_pp_val.json\n",
      "Loader loading scene_graphs_pp_test.json\n",
      "Loader loading scene_graphs_pp_miniv.json\n",
      "we have 108077 images.\nwe have 3802374 (filtered) objects, 35.2 per image.\nwe have 2316104 relations, 21.4 per image.\n"
     ],
     "output_type": "stream"
    }
   ],
   "source": [
    "from PhraseCutDataset.utils.vg_loader import VGLoader\n",
    "vg = VGLoader()"
   ]
  },
  {
   "cell_type": "code",
   "execution_count": 27,
   "metadata": {
    "pycharm": {
     "is_executing": false
    }
   },
   "outputs": [],
   "source": [
    "from PhraseCutDataset.internal.process.vg_processor import VGProcessor"
   ]
  },
  {
   "cell_type": "code",
   "execution_count": 33,
   "metadata": {
    "pycharm": {
     "is_executing": false
    }
   },
   "outputs": [
    {
     "name": "stdout",
     "text": [
      "RefVGLoader loading refer data\nRefVGLoader loading refer_filtered_instance_miniv.json\nRefVGLoader loading refer_filtered_instance_val.json\n",
      "RefVGLoader loading refer_filtered_instance_test.json\n",
      "RefVGLoader loading refer_filtered_instance_train.json\n",
      "RefVGLoader preparing data\n",
      "RefVGLoader ready.\n"
     ],
     "output_type": "stream"
    }
   ],
   "source": [
    "vgp = VGProcessor(vg_loader=vg, split='')"
   ]
  },
  {
   "cell_type": "raw",
   "metadata": {},
   "source": [
    "test_failed_tasks = ['2364991__1864998', '3569__4344249_4344250']\n",
    "val_failed_tasks = ['3656__4347083',\n",
    " '3656__4347087',\n",
    " '3656__4347091',\n",
    " '3656__4347100',\n",
    " '4351__1558186',\n",
    " '2365139__2277684',\n",
    " '1276__1639788',\n",
    " '1276__1639802']\n",
    "train_failed_tasks = ['2372717__735637',\n",
    " '2380982__1340500',\n",
    " '2387367__513781',\n",
    " '2387617__1274404',\n",
    " '2405125__655087',\n",
    " '2323343__989665']"
   ]
  },
  {
   "cell_type": "code",
   "execution_count": 34,
   "metadata": {
    "pycharm": {
     "is_executing": false
    }
   },
   "outputs": [
    {
     "name": "stdout",
     "text": [
      "ERR: cannot find name for type=verbose\n3656__4347083 \"white White  shoe on left foot\" {'type': 'verbose', 'name': '', 'attributes': ['white'], 'relations': [{'synsets': [], 'subject_id': 4347083, 'predicate': 'on', 'object_id': 4347084, 'relationship_id': 4700907}], 'relation_descriptions': []}\n\"white shoe on left foot\"\n['shoe']\n\nFailed 1. 3656__4347083 \"white White  shoe on left foot\" {'type': 'verbose', 'name': '', 'attributes': ['white'], 'relations': [{'synsets': [], 'subject_id': 4347083, 'predicate': 'on', 'object_id': 4347084, 'relationship_id': 4700907}], 'relation_descriptions': []}\nERR: cannot find name for type=verbose\n3656__4347087 \"white White  shoe\" {'type': 'verbose', 'name': '', 'attributes': ['white'], 'relations': [{'synsets': [], 'subject_id': 4347087, 'predicate': 'on', 'object_id': 4347088, 'relationship_id': 4700909}], 'relation_descriptions': []}\n\"white shoe\"\n['shoe']\n\nFailed 2. 3656__4347087 \"white White  shoe\" {'type': 'verbose', 'name': '', 'attributes': ['white'], 'relations': [{'synsets': [], 'subject_id': 4347087, 'predicate': 'on', 'object_id': 4347088, 'relationship_id': 4700909}], 'relation_descriptions': []}\nERR: cannot find name for type=verbose\n3656__4347091 \"white white  lines\" {'type': 'verbose', 'name': '', 'attributes': ['white'], 'relations': [{'synsets': [], 'subject_id': 4347091, 'predicate': 'on', 'object_id': 4347092, 'relationship_id': 4700911}], 'relation_descriptions': []}\n\"white lines\"\n['lines']\n\nFailed 3. 3656__4347091 \"white white  lines\" {'type': 'verbose', 'name': '', 'attributes': ['white'], 'relations': [{'synsets': [], 'subject_id': 4347091, 'predicate': 'on', 'object_id': 4347092, 'relationship_id': 4700911}], 'relation_descriptions': []}\nERR: cannot find name for type=verbose\n3656__4347100 \"white white  lines on court\" {'type': 'verbose', 'name': '', 'attributes': ['white'], 'relations': [{'synsets': [], 'subject_id': 4347100, 'predicate': 'on', 'object_id': 4347101, 'relationship_id': 4700914}], 'relation_descriptions': []}\n\"white lines on court\"\n['lines']\n\nFailed 4. 3656__4347100 \"white white  lines on court\" {'type': 'verbose', 'name': '', 'attributes': ['white'], 'relations': [{'synsets': [], 'subject_id': 4347100, 'predicate': 'on', 'object_id': 4347101, 'relationship_id': 4700914}], 'relation_descriptions': []}\nERR: cannot find name for type=verbose\n4351__1558186 \"are square lights\" {'type': 'verbose', 'name': '', 'attributes': ['square'], 'relations': [{'synsets': ['along.r.01'], 'subject_id': 1558186, 'predicate': 'on', 'object_id': 1558187, 'relationship_id': 3934559}], 'relation_descriptions': []}\n\"are lights\"\n['lights']\n\nFailed 5. 4351__1558186 \"are square lights\" {'type': 'verbose', 'name': '', 'attributes': ['square'], 'relations': [{'synsets': ['along.r.01'], 'subject_id': 1558186, 'predicate': 'on', 'object_id': 1558187, 'relationship_id': 3934559}], 'relation_descriptions': []}\nERR: cannot find name for type=verbose\n2365139__2277684 \"is gray sidewalk\" {'type': 'verbose', 'name': '', 'attributes': ['gray'], 'relations': [], 'relation_descriptions': []}\n\"is sidewalk\"\n['sidewalk']\n\nFailed 6. 2365139__2277684 \"is gray sidewalk\" {'type': 'verbose', 'name': '', 'attributes': ['gray'], 'relations': [], 'relation_descriptions': []}\nERR: cannot find name for type=verbose\n1276__1639788 \"is gray ceiling\" {'type': 'verbose', 'name': '', 'attributes': ['gray'], 'relations': [{'synsets': ['have.v.01'], 'subject_id': 1639788, 'predicate': 'has a', 'object_id': 1639787, 'relationship_id': 3897529}], 'relation_descriptions': []}\n\"is ceiling\"\n['ceiling']\n\nFailed 7. 1276__1639788 \"is gray ceiling\" {'type': 'verbose', 'name': '', 'attributes': ['gray'], 'relations': [{'synsets': ['have.v.01'], 'subject_id': 1639788, 'predicate': 'has a', 'object_id': 1639787, 'relationship_id': 3897529}], 'relation_descriptions': []}\nERR: cannot find name for type=verbose\n1276__1639802 \"is wooden side table\" {'type': 'verbose', 'name': '', 'attributes': ['wooden'], 'relations': [], 'relation_descriptions': []}\n\"is side table\"\n['side table']\n\nFailed 8. 1276__1639802 \"is wooden side table\" {'type': 'verbose', 'name': '', 'attributes': ['wooden'], 'relations': [], 'relation_descriptions': []}\n",
      "870__1030094 [] \"clear blue blue clear sky\" \"\" {'attributes': ['clear', 'blue', 'clear blue'], 'type': 'verbose', 'name': 'sky', 'relations': [], 'relation_descriptions': []}\n1026__4304735 [] \"gray gray and black chair\" \"\" {'attributes': ['gray and black', 'gray'], 'type': 'verbose', 'name': 'chair', 'relations': [], 'relation_descriptions': []}\nERR: cannot find name for type=verbose\n2364991__1864998 \"are white pieces\" {'type': 'verbose', 'name': '', 'attributes': ['white'], 'relations': [{'synsets': ['be.v.01'], 'subject_id': 1864998, 'predicate': 'are on', 'object_id': 3886675, 'relationship_id': 4388353}], 'relation_descriptions': []}\n\"are pieces\"\n['pieces']\n\nFailed 9. 2364991__1864998 \"are white pieces\" {'type': 'verbose', 'name': '', 'attributes': ['white'], 'relations': [{'synsets': ['be.v.01'], 'subject_id': 1864998, 'predicate': 'are on', 'object_id': 3886675, 'relationship_id': 4388353}], 'relation_descriptions': []}\nERR: cannot find name for type=verbose\n3569__4344249_4344250 \"black black  eye\" {'type': 'verbose', 'name': '', 'attributes': ['black'], 'relations': [], 'relation_descriptions': []}\n\"black eye\"\n['eye']\n\nFailed 10. 3569__4344249_4344250 \"black black  eye\" {'type': 'verbose', 'name': '', 'attributes': ['black'], 'relations': [], 'relation_descriptions': []}\n1037__1066091 ['relation', 'relation_descriptions'] \"white apron apron\" \"\" {'attributes': [], 'type': 'relation', 'name': 'white', 'relations': [{'synsets': [], 'subject_id': 1066091, 'predicate': 'apron', 'object_id': 1066092, 'relationship_id': 3192457}], 'relation_descriptions': [('apron', 'apron')]}\n",
      "2408290__1093899 ['relation_descriptions'] \"person riding riding bike\" \"\" {'attributes': [], 'type': 'name', 'name': 'person riding', 'relations': [{'relationship_id': 3222951, 'subject_id': 1093899, 'predicate': 'riding', 'synsets': ['be.v.01'], 'object_id': 1093895}], 'relation_descriptions': [('riding', 'bike')]}\n",
      "2366683__626797 ['relation_descriptions'] \"cotton long uniform knee high solid red red sock worn on leg\" \"\" {'attributes': ['red', 'solid red', 'knee high', 'uniform', 'long', 'cotton'], 'type': 'verbose', 'name': 'sock', 'relations': [{'relationship_id': 1622015, 'subject_id': 626797, 'predicate': 'worn on', 'synsets': ['wear.v.01'], 'object_id': 626814}], 'relation_descriptions': [('worn on', 'leg')]}\n",
      "2376491__2175223 ['relation_descriptions'] \"reflection water water\" \"\" {'attributes': [], 'type': 'name', 'name': 'reflection', 'relations': [{'relationship_id': 4302011, 'subject_id': 2175223, 'predicate': 'water', 'synsets': ['water.v.01'], 'object_id': 2175225}], 'relation_descriptions': [('water', 'water')]}\n",
      "2380490__1345966 ['relation_descriptions'] \"white light grey grey black standing cow has head\" \"\" {'attributes': ['standing', 'black', 'grey', 'light grey', 'white'], 'type': 'verbose', 'name': 'cow', 'relations': [{'relationship_id': 3602711, 'subject_id': 1345966, 'predicate': 'has', 'synsets': ['have.v.01'], 'object_id': 1345986}], 'relation_descriptions': [('has', 'head')]}\n2383169__1323232 ['relation_descriptions'] \"plastic plastic material bag full of apples filled with apples\" \"\" {'attributes': ['plastic material', 'plastic'], 'type': 'verbose', 'name': 'bag', 'relations': [{'relationship_id': 3574151, 'subject_id': 1323232, 'predicate': 'full of', 'synsets': ['fully.r.01'], 'object_id': 1323231}, {'relationship_id': 3574152, 'subject_id': 1323232, 'predicate': 'filled with', 'synsets': ['fill.v.01'], 'object_id': 1323231}], 'relation_descriptions': [('full of', 'apples'), ('filled with', 'apples')]}\n",
      "2385732__686063_686064_686059 [] \"dirty dark green green wall made of wood\" \"\" {'attributes': ['green', 'dark green', 'made of wood', 'dirty'], 'type': 'verbose', 'name': 'wall', 'relations': [], 'relation_descriptions': []}\n2387617__1274404 ['relation', 'relation_descriptions'] \"cart wheel wheel wagon\" \"\" {'attributes': [], 'type': 'relation', 'name': 'cart wheel', 'relations': [{'synsets': ['wheel.v.03'], 'subject_id': 1274404, 'predicate': 'wheel', 'object_id': 1274418, 'relationship_id': 3499471}], 'relation_descriptions': [('wheel', 'wagon')]}\n2388751__1266946 [] \"autumn dark red red leaf\" \"\" {'attributes': ['red', 'dark red', 'autumn'], 'type': 'verbose', 'name': 'leaf', 'relations': [], 'relation_descriptions': []}\n2389041__507211 [] \"9th street street sign\" \"\" {'attributes': ['9th street'], 'type': 'name', 'name': 'street sign', 'relations': [], 'relation_descriptions': []}\nempty separator\nFailed 11. 2389716__4485595 \"snow  white\" {'attributes': [], 'type': 'relation', 'name': 'snow', 'relations': [{'relationship_id': 4757436, 'subject_id': 4485583, 'predicate': 'on', 'synsets': [], 'object_id': 4485584}]}\n",
      "2390689__1248082 [] \"very tall tall street lamp\" \"\" {'attributes': ['tall', 'very tall'], 'type': 'verbose', 'name': 'street lamp', 'relations': [], 'relation_descriptions': []}\n2393812__1216602 ['relation_descriptions'] \"clear white white cloud floating in sky\" \"\" {'attributes': ['white', 'clear white'], 'type': 'verbose', 'name': 'cloud', 'relations': [{'relationship_id': 3407365, 'subject_id': 1216602, 'predicate': 'floating in', 'synsets': ['float.v.01'], 'object_id': 1216601}, {'relationship_id': 3407371, 'subject_id': 1216602, 'predicate': 'floating in', 'synsets': ['float.v.01'], 'object_id': 1216601}, {'relationship_id': 3407380, 'subject_id': 1216602, 'predicate': 'floating in', 'synsets': ['in.r.01'], 'object_id': 1216601}], 'relation_descriptions': [('floating in', 'sky')]}\n2393820__3259574 [] \"tuk tuk three wheel taxi\" \"\" {'attributes': ['tuk tuk three wheel'], 'type': 'attribute', 'name': 'taxi', 'relations': [], 'relation_descriptions': []}\n",
      "2395515__1204840 [] \"dark brown brown leather couch\" \"\" {'attributes': ['leather', 'brown', 'dark brown'], 'type': 'verbose', 'name': 'couch', 'relations': [], 'relation_descriptions': []}\n2398812__1175555 ['relation_descriptions'] \"horses horses outside\" \"\" {'attributes': [], 'type': 'name', 'name': 'horses', 'relations': [{'relationship_id': 3332744, 'subject_id': 1175555, 'predicate': 'horses', 'synsets': [], 'object_id': 1175556}], 'relation_descriptions': [('horses', 'outside')]}\n",
      "2403056__357009 [] \"painted light green green wall\" \"\" {'attributes': ['green', 'light green', 'painted'], 'type': 'verbose', 'name': 'wall', 'relations': [], 'relation_descriptions': []}\n2403565__1123583 [] \"glazed heart shaped shaped doughnut\" \"\" {'attributes': ['shaped', 'heart shaped', 'glazed'], 'type': 'verbose', 'name': 'doughnut', 'relations': [], 'relation_descriptions': []}\n",
      "2407622__276481 ['relation_descriptions'] \"leaves trees trees\" \"\" {'attributes': [], 'type': 'name', 'name': 'leaves', 'relations': [{'relationship_id': 329328, 'subject_id': 276481, 'predicate': 'trees', 'synsets': [], 'object_id': 276478}], 'relation_descriptions': [('trees', 'trees')]}\n2407874__366150 ['phrase', 'relation_descriptions'] \"green grass area area patch grass patch green grass\" \"green grass grass area area grass patch grass patch grass green grass\" {'attributes': ['green'], 'type': 'verbose', 'name': 'grass', 'relations': [{'relationship_id': 673760, 'subject_id': 366150, 'predicate': 'grass area', 'synsets': ['denounce.v.04'], 'object_id': 366151}, {'relationship_id': 673791, 'subject_id': 366150, 'predicate': 'grass patch', 'synsets': ['patch.v.01'], 'object_id': 366151}, {'relationship_id': 673798, 'subject_id': 366150, 'predicate': 'grass green', 'synsets': ['be.v.01'], 'object_id': 366151}], 'relation_descriptions': [('area', 'area'), ('patch', 'grass patch'), ('green', 'grass')]}\n",
      "2411446__1079759 [] \"light blue blue shirt\" \"\" {'attributes': ['blue', 'light blue'], 'type': 'verbose', 'name': 'shirt', 'relations': [], 'relation_descriptions': []}\n2414089__160116 [] \"player waiting waiting for a ball\" \"\" {'attributes': ['waiting for a ball'], 'type': 'name', 'name': 'player waiting', 'relations': [], 'relation_descriptions': []}\n2414246__157102_157101_157103_157099_157100 ['relation_descriptions'] \"arranged upside-down upside-down skateboard in a line kept in road\" \"\" {'attributes': ['upside-down', 'in a line', 'arranged upside-down'], 'type': 'verbose', 'name': 'skateboard', 'relations': [{'relationship_id': 151408, 'subject_id': 157102, 'predicate': 'kept in', 'synsets': ['keep.v.01'], 'object_id': 157105}], 'relation_descriptions': [('kept in', 'road')]}\n2414892__149839 ['relation', 'relation_descriptions'] \"pizza pizza box\" \"\" {'attributes': [], 'type': 'relation', 'name': 'pizza', 'relations': [{'synsets': [], 'subject_id': 149839, 'predicate': 'pizza', 'object_id': 149840, 'relationship_id': 144677}], 'relation_descriptions': [('pizza', 'box')]}\n",
      "61513__1072884 ['relation_descriptions'] \"motorcycle tire tire\" \"\" {'attributes': [], 'type': 'name', 'name': 'motorcycle', 'relations': [{'relationship_id': 3200005, 'subject_id': 1072884, 'predicate': 'tire', 'synsets': ['tire.v.02'], 'object_id': 1072921}], 'relation_descriptions': [('tire', 'tire')]}\n",
      "285618__4397730 ['relation_descriptions'] \"letter racket racket\" \"\" {'attributes': [], 'type': 'name', 'name': 'letter', 'relations': [{'relationship_id': 4722381, 'subject_id': 4397730, 'predicate': 'racket', 'synsets': [], 'object_id': 4397715}], 'relation_descriptions': [('racket', 'racket')]}\n2361928__2673500 [] \"left front front leg\" \"\" {'attributes': ['left front'], 'type': 'name', 'name': 'front leg', 'relations': [], 'relation_descriptions': []}\n",
      "11\n['3656__4347083', '3656__4347087', '3656__4347091', '3656__4347100', '4351__1558186', '2365139__2277684', '1276__1639788', '1276__1639802', '2364991__1864998', '3569__4344249_4344250', '2389716__4485595']\n"
     ],
     "output_type": "stream"
    }
   ],
   "source": [
    "ms = dict()\n",
    "failed_tasks = list()\n",
    "dup_tasks = list()\n",
    "\n",
    "for img_id, img_tasks in vgp.ImgReferTasks.items():\n",
    "    for task in img_tasks:\n",
    "#         if task['task_id'] in skip_tasks:\n",
    "#             continue\n",
    "        try:\n",
    "            modified = vgp.refine_task_data(task, verbose=False)\n",
    "            ms[task['task_id']] = modified\n",
    "            ph_words = task['phrase'].split()\n",
    "            for i in range(len(ph_words) - 1):\n",
    "                if ph_words[i] == ph_words[i+1]:\n",
    "                    print(task['task_id'], modified, '\"'+task['phrase']+'\"','\"'+task.get('original_phrase', '')+'\"', \n",
    "                          task['phrase_structure'])\n",
    "                    dup_tasks.append(task['task_id'])\n",
    "                    break\n",
    "        except Exception as e:\n",
    "            print(e)\n",
    "            failed_tasks.append(task['task_id'])\n",
    "            print('Failed %d.' % len(failed_tasks), task['task_id'], '\"'+task['phrase']+'\"', task['phrase_structure'])\n",
    "\n",
    "print(len(failed_tasks))\n",
    "print(failed_tasks)"
   ]
  },
  {
   "cell_type": "code",
   "execution_count": 35,
   "metadata": {
    "pycharm": {
     "is_executing": false
    }
   },
   "outputs": [
    {
     "name": "stdout",
     "text": [
      "3656__4347083\nwhite White  shoe on left foot\n{'type': 'verbose', 'name': '', 'attributes': ['white'], 'relations': [{'synsets': [], 'subject_id': 4347083, 'predicate': 'on', 'object_id': 4347084, 'relationship_id': 4700907}], 'relation_descriptions': []}\non ['left foot']\n3656__4347087\nwhite White  shoe\n{'type': 'verbose', 'name': '', 'attributes': ['white'], 'relations': [{'synsets': [], 'subject_id': 4347087, 'predicate': 'on', 'object_id': 4347088, 'relationship_id': 4700909}], 'relation_descriptions': []}\non ['right foot']\n3656__4347091\nwhite white  lines\n{'type': 'verbose', 'name': '', 'attributes': ['white'], 'relations': [{'synsets': [], 'subject_id': 4347091, 'predicate': 'on', 'object_id': 4347092, 'relationship_id': 4700911}], 'relation_descriptions': []}\non ['ground']\n3656__4347100\nwhite white  lines on court\n{'type': 'verbose', 'name': '', 'attributes': ['white'], 'relations': [{'synsets': [], 'subject_id': 4347100, 'predicate': 'on', 'object_id': 4347101, 'relationship_id': 4700914}], 'relation_descriptions': []}\non ['court']\n4351__1558186\nare square lights\n{'type': 'verbose', 'name': '', 'attributes': ['square'], 'relations': [{'synsets': ['along.r.01'], 'subject_id': 1558186, 'predicate': 'on', 'object_id': 1558187, 'relationship_id': 3934559}], 'relation_descriptions': []}\non ['ceiling']\n2365139__2277684\nis gray sidewalk\n{'type': 'verbose', 'name': '', 'attributes': ['gray'], 'relations': [], 'relation_descriptions': []}\n1276__1639788\nis gray ceiling\n{'type': 'verbose', 'name': '', 'attributes': ['gray'], 'relations': [{'synsets': ['have.v.01'], 'subject_id': 1639788, 'predicate': 'has a', 'object_id': 1639787, 'relationship_id': 3897529}], 'relation_descriptions': []}\nhas a ['light']\n1276__1639802\nis wooden side table\n{'type': 'verbose', 'name': '', 'attributes': ['wooden'], 'relations': [], 'relation_descriptions': []}\n2364991__1864998\nare white pieces\n{'type': 'verbose', 'name': '', 'attributes': ['white'], 'relations': [{'synsets': ['be.v.01'], 'subject_id': 1864998, 'predicate': 'are on', 'object_id': 3886675, 'relationship_id': 4388353}], 'relation_descriptions': []}\nare on ['ground']\n3569__4344249_4344250\nblack black  eye\n{'type': 'verbose', 'name': '', 'attributes': ['black'], 'relations': [], 'relation_descriptions': []}\n2389716__4485595\nsnow  white\n{'attributes': [], 'type': 'relation', 'name': 'snow', 'relations': [{'relationship_id': 4757436, 'subject_id': 4485583, 'predicate': 'on', 'synsets': [], 'object_id': 4485584}]}\n ['white']\n"
     ],
     "output_type": "stream"
    }
   ],
   "source": [
    "remain_tasks = failed_tasks\n",
    "for img_id, img_tasks in vgp.ImgReferTasks.items():\n",
    "    for task in img_tasks:\n",
    "        if task['task_id'] in remain_tasks:\n",
    "            print(task['task_id'])\n",
    "            print(task['phrase'])\n",
    "            print(task['phrase_structure'])\n",
    "            for ann_id in task['ann_ids']:\n",
    "                rels = vgp.objects[ann_id]['relations']\n",
    "                for rel in rels:\n",
    "                    print(rel['predicate'], vgp.objects[rel['object_id']]['names'])"
   ]
  },
  {
   "cell_type": "code",
   "execution_count": 36,
   "metadata": {
    "pycharm": {
     "is_executing": false
    }
   },
   "outputs": [
    {
     "name": "stdout",
     "text": [
      "['3656__4347083', '3656__4347087', '3656__4347091', '3656__4347100', '4351__1558186', '2365139__2277684', '1276__1639788', '1276__1639802', '2364991__1864998', '3569__4344249_4344250', '2389716__4485595']\n3656__4347083 white shoe on left foot\nstart refining task 3656__4347083 white shoe on left foot {}\nfrom split_rel_descriptions: \"on left foot\" [] ['on']\nreturned rds:  [('on', 'left foot')]\nWARNING! type=relation, case=3\n3656__4347083 \"white shoe on left foot\" {'type': 'relation', 'name': 'shoe', 'attributes': ['white'], 'relations': [{'synsets': [], 'subject_id': 4347083, 'predicate': 'on', 'object_id': 4347084, 'relationship_id': 4700907}], 'relation_descriptions': [('on', 'left foot')]}\nref_ann: {'obj_id': 4347083, 'image_id': 3656, 'box': [160, 374, 121, 61], 'names': ['shoe'], 'attributes': ['white'], 'relations': [{'synsets': [], 'subject_id': 4347083, 'predicate': 'on', 'object_id': 4347084, 'relationship_id': 4700907}]}\nst_anns: [{'obj_id': 4347069, 'image_id': 3656, 'box': [192, 389, 65, 49], 'names': ['shoe'], 'attributes': ['white'], 'relations': []}, {'obj_id': 4347087, 'image_id': 3656, 'box': [181, 339, 69, 45], 'names': ['shoe'], 'attributes': ['white'], 'relations': [{'synsets': [], 'subject_id': 4347087, 'predicate': 'on', 'object_id': 4347088, 'relationship_id': 4700909}]}, {'obj_id': 4347126, 'image_id': 3656, 'box': [197, 398, 59, 38], 'names': ['shoe'], 'attributes': ['white'], 'relations': []}, {'obj_id': 4554016, 'image_id': 3656, 'box': [193, 395, 59, 41], 'names': ['shoe'], 'attributes': ['white', 'black'], 'relations': []}]\nrecover_phrase_structure:  white shoe on left foot {'type': 'relation', 'name': 'shoe', 'attributes': ['white'], 'relations': [{'synsets': [], 'subject_id': 4347083, 'predicate': 'on', 'object_id': 4347084, 'relationship_id': 4700907}], 'relation_descriptions': [('on', 'left foot')]}\n3656__4347083 ['phrase_structure', 'relation_descriptions']\n3656__4347087 white shoe\nstart refining task 3656__4347087 white shoe {}\nWARNING! type=relation, case=1\n3656__4347087 \"white shoe\" {'type': 'relation', 'name': 'shoe', 'attributes': ['white'], 'relations': [], 'relation_descriptions': []}\nref_ann: {'obj_id': 4347087, 'image_id': 3656, 'box': [181, 339, 69, 45], 'names': ['shoe'], 'attributes': ['white'], 'relations': [{'synsets': [], 'subject_id': 4347087, 'predicate': 'on', 'object_id': 4347088, 'relationship_id': 4700909}]}\nst_anns: [{'obj_id': 4347069, 'image_id': 3656, 'box': [192, 389, 65, 49], 'names': ['shoe'], 'attributes': ['white'], 'relations': []}, {'obj_id': 4347083, 'image_id': 3656, 'box': [160, 374, 121, 61], 'names': ['shoe'], 'attributes': ['white'], 'relations': [{'synsets': [], 'subject_id': 4347083, 'predicate': 'on', 'object_id': 4347084, 'relationship_id': 4700907}]}, {'obj_id': 4347126, 'image_id': 3656, 'box': [197, 398, 59, 38], 'names': ['shoe'], 'attributes': ['white'], 'relations': []}, {'obj_id': 4554016, 'image_id': 3656, 'box': [193, 395, 59, 41], 'names': ['shoe'], 'attributes': ['white', 'black'], 'relations': []}]\nrecover_phrase_structure:  white shoe {'type': 'relation', 'name': 'shoe', 'attributes': ['white'], 'relations': [], 'relation_descriptions': []}\n3656__4347087 ['phrase_structure']\n3656__4347091 white lines\nstart refining task 3656__4347091 white lines {}\nWARNING! type=relation, case=1\n3656__4347091 \"white lines\" {'type': 'relation', 'name': 'lines', 'attributes': ['white'], 'relations': [], 'relation_descriptions': []}\nref_ann: {'obj_id': 4347091, 'image_id': 3656, 'box': [5, 227, 299, 237], 'names': ['lines'], 'attributes': ['white'], 'relations': [{'synsets': [], 'subject_id': 4347091, 'predicate': 'on', 'object_id': 4347092, 'relationship_id': 4700911}]}\nst_anns: [{'obj_id': 4347100, 'image_id': 3656, 'box': [2, 256, 133, 178], 'names': ['lines'], 'attributes': ['white'], 'relations': [{'synsets': [], 'subject_id': 4347100, 'predicate': 'on', 'object_id': 4347101, 'relationship_id': 4700914}]}]\nrecover_phrase_structure:  white lines {'type': 'relation', 'name': 'lines', 'attributes': ['white'], 'relations': [], 'relation_descriptions': []}\n3656__4347091 ['phrase_structure']\n3656__4347100 white lines on court\nstart refining task 3656__4347100 white lines on court {}\nfrom split_rel_descriptions: \"on court\" [] ['on']\nreturned rds:  [('on', 'court')]\nWARNING! type=relation, case=3\n3656__4347100 \"white lines on court\" {'type': 'relation', 'name': 'lines', 'attributes': ['white'], 'relations': [{'synsets': [], 'subject_id': 4347100, 'predicate': 'on', 'object_id': 4347101, 'relationship_id': 4700914}], 'relation_descriptions': [('on', 'court')]}\nref_ann: {'obj_id': 4347100, 'image_id': 3656, 'box': [2, 256, 133, 178], 'names': ['lines'], 'attributes': ['white'], 'relations': [{'synsets': [], 'subject_id': 4347100, 'predicate': 'on', 'object_id': 4347101, 'relationship_id': 4700914}]}\nst_anns: [{'obj_id': 4347091, 'image_id': 3656, 'box': [5, 227, 299, 237], 'names': ['lines'], 'attributes': ['white'], 'relations': [{'synsets': [], 'subject_id': 4347091, 'predicate': 'on', 'object_id': 4347092, 'relationship_id': 4700911}]}]\nrecover_phrase_structure:  white lines on court {'type': 'relation', 'name': 'lines', 'attributes': ['white'], 'relations': [{'synsets': [], 'subject_id': 4347100, 'predicate': 'on', 'object_id': 4347101, 'relationship_id': 4700914}], 'relation_descriptions': [('on', 'court')]}\n3656__4347100 ['phrase_structure', 'relation_descriptions']\n4351__1558186 square lights\nstart refining task 4351__1558186 square lights {}\nrecover_phrase_structure:  square lights {'type': 'attribute', 'name': 'lights', 'attributes': ['square'], 'relations': [], 'relation_descriptions': []}\n4351__1558186 ['phrase_structure']\n2365139__2277684 gray sidewalk\nstart refining task 2365139__2277684 gray sidewalk {}\nrecover_phrase_structure:  gray sidewalk {'type': 'attribute', 'name': 'sidewalk', 'attributes': ['gray'], 'relations': [], 'relation_descriptions': []}\n2365139__2277684 ['phrase_structure']\n1276__1639788 gray ceiling\nstart refining task 1276__1639788 gray ceiling {}\nrecover_phrase_structure:  gray ceiling {'type': 'attribute', 'name': 'ceiling', 'attributes': ['gray'], 'relations': [], 'relation_descriptions': []}\n1276__1639788 ['phrase_structure']\n1276__1639802 wooden side table\nstart refining task 1276__1639802 wooden side table {}\nrecover_phrase_structure:  wooden side table {'type': 'name', 'name': 'side table', 'attributes': ['wooden'], 'relations': [], 'relation_descriptions': []}\n1276__1639802 ['phrase_structure']\n2364991__1864998 white pieces\nstart refining task 2364991__1864998 white pieces {}\nrecover_phrase_structure:  white pieces {'type': 'name', 'name': 'pieces', 'attributes': ['white'], 'relations': [], 'relation_descriptions': []}\n2364991__1864998 ['phrase_structure']\n3569__4344249_4344250 black eye\nstart refining task 3569__4344249_4344250 black eye {}\nrecover_phrase_structure:  black eye {'type': 'verbose', 'name': 'eye', 'attributes': ['black'], 'relations': [], 'relation_descriptions': []}\n3569__4344249_4344250 ['phrase_structure']\n",
      "['2389716__4485595']\n"
     ],
     "output_type": "stream"
    }
   ],
   "source": [
    "print(remain_tasks)\n",
    "failed_tasks = list()\n",
    "\n",
    "for img_id, img_tasks in vgp.ImgReferTasks.items():\n",
    "    for task in img_tasks:\n",
    "        if task['task_id'] in remain_tasks:\n",
    "            if task['phrase_structure']['type'] == 'verbose':  # originally they are task['phrase_structure']=={}\n",
    "                task['phrase_structure'] = dict()\n",
    "                phrase_words = task['phrase'].lower().split()\n",
    "                if 'is' in phrase_words:\n",
    "                    phrase_words.remove('is')\n",
    "                if 'are' in phrase_words:\n",
    "                    phrase_words.remove('are')\n",
    "                if phrase_words[0] == phrase_words[1]:\n",
    "                    phrase_words.pop(0)\n",
    "                task['phrase'] = ' '.join(phrase_words)\n",
    "                print(task['task_id'], task['phrase'])\n",
    "                try:\n",
    "                    modified = vgp.refine_task_data(task, verbose=True)\n",
    "                    ms[task['task_id']] = modified\n",
    "                    print(task['task_id'], modified)\n",
    "                    remain_tasks.remove(task['task_id'])\n",
    "                except Exception as e:\n",
    "                    print(e)\n",
    "                    failed_tasks.append(task['task_id'])\n",
    "                    print('Failed %d.' % len(failed_tasks), task['task_id'], '\"'+task['phrase']+'\"', \n",
    "                          task['phrase_structure'])\n",
    "                    \n",
    "print(remain_tasks)"
   ]
  },
  {
   "cell_type": "raw",
   "metadata": {
    "pycharm": {
     "name": "#%% raw\n"
    }
   },
   "source": [
    "\n",
    "print(remain_tasks)\n",
    "failed_tasks = list()\n",
    "\n",
    "for img_id, img_tasks in vgp.ImgReferTasks.items():\n",
    "    for task in img_tasks:\n",
    "        if task['task_id'] in remain_tasks:\n",
    "            if task['phrase_structure']['type'] == 'relation': \n",
    "                try:\n",
    "                    modified = vgp.refine_task_data(task, verbose=True)\n",
    "                    ms[task['task_id']] = modified\n",
    "                    print(task['task_id'], modified)\n",
    "                    remain_tasks.remove(task['task_id'])\n",
    "                except Exception as e:\n",
    "                    print(e)\n",
    "                    failed_tasks.append(task['task_id'])\n",
    "                    print('Failed %d.' % len(failed_tasks), task['task_id'], '\"'+task['phrase']+'\"', \n",
    "                          task['phrase_structure'])\n",
    "\n",
    "                    \n",
    "print(remain_tasks)\n"
   ]
  },
  {
   "cell_type": "code",
   "execution_count": 37,
   "metadata": {
    "pycharm": {
     "is_executing": false
    }
   },
   "outputs": [
    {
     "name": "stdout",
     "text": [
      "0 2389716__4485563\n1 2389716__4485546\n2 2389716__4485559\n3 2389716__4485595\n"
     ],
     "output_type": "stream"
    }
   ],
   "source": [
    "for i, t in enumerate(vgp.ImgReferTasks[2389716]):\n",
    "    print(i, t['task_id'])"
   ]
  },
  {
   "cell_type": "code",
   "execution_count": 38,
   "metadata": {
    "pycharm": {
     "is_executing": false
    }
   },
   "outputs": [
    {
     "name": "stdout",
     "text": [
      "snow  white\n[4485595]\n{'attributes': [], 'type': 'relation', 'name': 'snow', 'relations': [{'relationship_id': 4757436, 'subject_id': 4485583, 'predicate': 'on', 'synsets': [], 'object_id': 4485584}]}\n{'obj_id': 4485595, 'image_id': 2389716, 'box': [175, 300, 127, 170], 'names': ['snow'], 'attributes': [], 'relations': [{'synsets': [], 'subject_id': 4485595, 'predicate': '', 'object_id': 4485596, 'relationship_id': 4757442}]}\n ['white']\n"
     ],
     "output_type": "stream"
    }
   ],
   "source": [
    "t = vgp.ImgReferTasks[2389716][3]\n",
    "print(t['phrase'])\n",
    "print(t['ann_ids'])\n",
    "print(t['phrase_structure'])\n",
    "for ann_id in t['ann_ids']:\n",
    "    print(vgp.objects[ann_id])\n",
    "    rels = vgp.objects[ann_id]['relations']\n",
    "    for rel in rels:\n",
    "        print(rel['predicate'], vgp.objects[rel['object_id']]['names'])\n",
    "# vgp.refine_task_data(t, verbose=True)\n"
   ]
  },
  {
   "cell_type": "code",
   "execution_count": 39,
   "metadata": {
    "pycharm": {
     "is_executing": false
    }
   },
   "outputs": [],
   "source": [
    "t = vgp.ImgReferTasks[2389716][3]\n",
    "t['phrase'] = 'white snow'\n",
    "t['original_phrase'] = 'snow  white'\n",
    "t['phrase_structure'] = {'attributes': ['white'], 'type': 'name', 'name': 'snow', 'relations': [], \n",
    "                         'relation_descriptions': []}"
   ]
  },
  {
   "cell_type": "code",
   "execution_count": 40,
   "metadata": {
    "pycharm": {
     "is_executing": false
    }
   },
   "outputs": [
    {
     "name": "stdout",
     "text": [
      "28\nwhite apron apron \t ['white', [], [('apron', 'apron')]]\nperson riding riding bike \t ['person riding', [], [('riding', 'bike')]]\ncotton long uniform knee high solid red red sock worn on leg \t ['sock', ['red', 'solid red', 'knee high', 'uniform', 'long', 'cotton'], [('worn on', 'leg')]]\nreflection water water \t ['reflection', [], [('water', 'water')]]\nwhite light grey grey black standing cow has head \t ['cow', ['standing', 'black', 'grey', 'light grey', 'white'], [('has', 'head')]]\nplastic plastic material bag full of apples filled with apples \t ['bag', ['plastic material', 'plastic'], [('full of', 'apples'), ('filled with', 'apples')]]\n",
      "cart wheel wheel wagon \t ['cart wheel', [], [('wheel', 'wagon')]]\nclear white white cloud floating in sky \t ['cloud', ['white', 'clear white'], [('floating in', 'sky')]]\nhorses horses outside \t ['horses', [], [('horses', 'outside')]]\nleaves trees trees \t ['leaves', [], [('trees', 'trees')]]\ngreen grass area area patch grass patch green grass \t ['grass', ['green'], [('area', 'area'), ('patch', 'grass patch'), ('green', 'grass')]]\narranged upside-down upside-down skateboard in a line kept in road \t ['skateboard', ['upside-down', 'in a line', 'arranged upside-down'], [('kept in', 'road')]]\npizza pizza box \t ['pizza', [], [('pizza', 'box')]]\nmotorcycle tire tire \t ['motorcycle', [], [('tire', 'tire')]]\n",
      "letter racket racket \t ['letter', [], [('racket', 'racket')]]\n"
     ],
     "output_type": "stream"
    }
   ],
   "source": [
    "print(len(dup_tasks))\n",
    "\n",
    "for img_id, img_tasks in vgp.ImgReferTasks.items():\n",
    "    for task in img_tasks:\n",
    "        if task['task_id'] in dup_tasks and len(task['phrase_structure']['relation_descriptions']) > 0:\n",
    "            print(task['phrase'], '\\t', [task['phrase_structure'][k] for k in ['name', 'attributes', \n",
    "                                                                               'relation_descriptions']])"
   ]
  },
  {
   "cell_type": "code",
   "metadata": {
    "pycharm": {
     "name": "#%% \n",
     "is_executing": false
    }
   },
   "source": [
    "tasks = dict()\n",
    "for s in ['train', 'val', 'test', 'miniv']:\n",
    "    tasks[s] = list()\n",
    "\n",
    "for img_id, img_tasks in vgp.ImgReferTasks.items():\n",
    "    for task in img_tasks:\n",
    "        del task['ins_box_ixs']\n",
    "    split = vgp.vg_loader.info_dict[img_id]['split']\n",
    "    tasks[split] += img_tasks\n",
    "\n",
    "for s, ts in tasks.items():\n",
    "    print(s, len(ts))"
   ],
   "execution_count": 42,
   "outputs": [
    {
     "name": "stdout",
     "text": [
      "train 308893\nval 20218\ntest 18980\nminiv 132\n"
     ],
     "output_type": "stream"
    }
   ]
  },
  {
   "cell_type": "code",
   "execution_count": 43,
   "outputs": [
    {
     "name": "stdout",
     "text": [
      "train 308893\n",
      "val 20218\n",
      "test 18980\n",
      "miniv 132\n",
      "348223\n"
     ],
     "output_type": "stream"
    }
   ],
   "source": [
    "import json\n",
    "all_tasks = list()\n",
    "for s, ts in tasks.items():\n",
    "    print(s, len(ts))\n",
    "    all_tasks += ts\n",
    "    with open('data/refvg/amt_result/refer_filtered_instance_refine_%s.json' % s, 'w') as f:\n",
    "        json.dump(ts, f)\n",
    "\n",
    "print(len(all_tasks))\n",
    "with open('data/refvg/amt_result/refer_filtered_instance_refine.json', 'w') as f:\n",
    "        json.dump(all_tasks, f)\n"
   ],
   "metadata": {
    "collapsed": false,
    "pycharm": {
     "name": "#%%\n",
     "is_executing": false
    }
   }
  },
  {
   "cell_type": "code",
   "execution_count": null,
   "outputs": [],
   "source": [
    "\n"
   ],
   "metadata": {
    "collapsed": false,
    "pycharm": {
     "name": "#%%\n"
    }
   }
  }
 ],
 "metadata": {
  "kernelspec": {
   "display_name": "Python 3",
   "language": "python",
   "name": "python3"
  },
  "language_info": {
   "codemirror_mode": {
    "name": "ipython",
    "version": 3
   },
   "file_extension": ".py",
   "mimetype": "text/x-python",
   "name": "python",
   "nbconvert_exporter": "python",
   "pygments_lexer": "ipython3",
   "version": "3.7.4"
  },
  "pycharm": {
   "stem_cell": {
    "cell_type": "raw",
    "source": [],
    "metadata": {
     "collapsed": false
    }
   }
  }
 },
 "nbformat": 4,
 "nbformat_minor": 4
}