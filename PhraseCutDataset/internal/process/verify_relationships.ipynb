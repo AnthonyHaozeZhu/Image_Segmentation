{
 "cells": [
  {
   "cell_type": "code",
   "execution_count": 1,
   "metadata": {},
   "outputs": [],
   "source": [
    "import os.path as osp\n",
    "import json\n",
    "import numpy as np"
   ]
  },
  {
   "cell_type": "code",
   "execution_count": 2,
   "metadata": {},
   "outputs": [
    {
     "name": "stdout",
     "output_type": "stream",
     "text": [
      "loading refer_filtered_instance_miniv.json\n"
     ]
    }
   ],
   "source": [
    "splits = ['miniv', 'val', 'test', 'train']\n",
    "\n",
    "ref_tasks = []\n",
    "for s in splits[:1]:\n",
    "    print('loading refer_filtered_instance_%s.json' % s)\n",
    "    with open('/mnt/nfs/work1/elm/chenyun/PhraseCutPano/data/refvg/amt_result/refer_filtered_instance_%s.json' % s, 'r') as f:\n",
    "        ref_tasks += json.load(f)\n"
   ]
  },
  {
   "cell_type": "code",
   "execution_count": 4,
   "metadata": {},
   "outputs": [
    {
     "name": "stdout",
     "output_type": "stream",
     "text": [
      "loading refer_filtered_instance_val.json\n",
      "loading refer_filtered_instance_test.json\n",
      "loading refer_filtered_instance_train.json\n"
     ]
    }
   ],
   "source": [
    "for s in splits[1:]:\n",
    "    print('loading refer_filtered_instance_%s.json' % s)\n",
    "    with open('/mnt/nfs/work1/elm/chenyun/PhraseCutPano/data/refvg/amt_result/refer_filtered_instance_%s.json' % s, 'r') as f:\n",
    "        ref_tasks += json.load(f)\n"
   ]
  },
  {
   "cell_type": "code",
   "execution_count": null,
   "metadata": {},
   "outputs": [],
   "source": [
    "tasks_wrong = list()\n",
    "tasks_missing = list()\n",
    "\n",
    "for ti, t in enumerate(ref_tasks):\n",
    "    \n",
    "    ph = t['phrase']\n",
    "    ps = t['phrase_structure']\n",
    "    if len(t['phrase_structure']) == 0:\n",
    "        tasks_missing.append(t)\n",
    "        print('tasks_missing %d' % len(tasks_missing))\n",
    "        continue\n",
    "    if ps['name'] not in ph:\n",
    "        tasks_wrong.append(t)\n",
    "        print('tasks_wrong %d: name' % len(tasks_wrong))\n",
    "        print(ph, ps)\n",
    "    for a in ps['attributes']:\n",
    "        if a not in ph:\n",
    "            tasks_wrong.append(t)\n",
    "            print('tasks_wrong %d: att' % len(tasks_wrong))\n",
    "            print(ph, ps)\n",
    "    for rel in ps['relations']:\n",
    "        if rel['predicate'] not in ph:\n",
    "            tasks_wrong.append(t)\n",
    "            print('tasks_wrong %d: rel' % len(tasks_wrong))\n",
    "            print(ph, ps)\n",
    "    if ti % 1000 == 0:\n",
    "        print(ti, len(tasks_wrong), len(tasks_missing))\n"
   ]
  },
  {
   "cell_type": "code",
   "execution_count": 7,
   "metadata": {},
   "outputs": [
    {
     "name": "stdout",
     "output_type": "stream",
     "text": [
      "6273 2481\n"
     ]
    }
   ],
   "source": [
    "print(len(tasks_wrong), len(tasks_missing))"
   ]
  },
  {
   "cell_type": "code",
   "execution_count": 8,
   "metadata": {},
   "outputs": [],
   "source": [
    "with open('/mnt/nfs/work1/elm/chenyun/PhraseCutPano/data/refvg/image_data_split1000.json', 'r') as f:\n",
    "        image_data = json.load(f)\n"
   ]
  },
  {
   "cell_type": "code",
   "execution_count": 10,
   "metadata": {},
   "outputs": [
    {
     "data": {
      "text/plain": [
       "['phrase_structure',\n",
       " 'task_id',\n",
       " 'iou',\n",
       " 'instance_boxes',\n",
       " 'iop',\n",
       " 'image_id',\n",
       " 'ann_ids',\n",
       " 'phrase',\n",
       " 'iob',\n",
       " 'turk_id',\n",
       " 'Polygons']"
      ]
     },
     "execution_count": 10,
     "metadata": {},
     "output_type": "execute_result"
    }
   ],
   "source": [
    "list(tasks_wrong[0].keys())\n"
   ]
  },
  {
   "cell_type": "code",
   "execution_count": 11,
   "metadata": {},
   "outputs": [
    {
     "data": {
      "text/plain": [
       "{'width': 800,\n",
       " 'url': 'https://cs.stanford.edu/people/rak248/VG_100K_2/1.jpg',\n",
       " 'height': 600,\n",
       " 'image_id': 1,\n",
       " 'split': 'train',\n",
       " 'coco_id': None,\n",
       " 'flickr_id': None}"
      ]
     },
     "execution_count": 11,
     "metadata": {},
     "output_type": "execute_result"
    }
   ],
   "source": [
    "image_data[0]"
   ]
  },
  {
   "cell_type": "code",
   "execution_count": 15,
   "metadata": {},
   "outputs": [],
   "source": [
    "for t in tasks_wrong:\n",
    "    if t['phrase_structure']['type'] != 'relation':\n",
    "        print(t['phrase_structure']['type'])"
   ]
  },
  {
   "cell_type": "code",
   "execution_count": null,
   "metadata": {},
   "outputs": [],
   "source": [
    "    "
   ]
  }
 ],
 "metadata": {
  "kernelspec": {
   "display_name": "Python 3",
   "language": "python",
   "name": "python3"
  },
  "language_info": {
   "codemirror_mode": {
    "name": "ipython",
    "version": 3
   },
   "file_extension": ".py",
   "mimetype": "text/x-python",
   "name": "python",
   "nbconvert_exporter": "python",
   "pygments_lexer": "ipython3",
   "version": "3.7.4"
  }
 },
 "nbformat": 4,
 "nbformat_minor": 4
}
